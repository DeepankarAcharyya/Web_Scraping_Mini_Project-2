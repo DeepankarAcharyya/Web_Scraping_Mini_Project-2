{
 "cells": [
  {
   "cell_type": "markdown",
   "metadata": {},
   "source": [
    "# Aim :\n",
    "#### to download an image of a user-provided keyword"
   ]
  },
  {
   "cell_type": "code",
   "execution_count": 10,
   "metadata": {},
   "outputs": [],
   "source": [
    "import requests\n",
    "from bs4 import BeautifulSoup\n",
    "from selenium import webdriver"
   ]
  },
  {
   "cell_type": "code",
   "execution_count": 11,
   "metadata": {},
   "outputs": [
    {
     "name": "stdout",
     "output_type": "stream",
     "text": [
      "Enter the keyword :yell\n"
     ]
    }
   ],
   "source": [
    "#Inputs\n",
    "keyword=str(input(\"Enter the keyword :\"))"
   ]
  },
  {
   "cell_type": "code",
   "execution_count": 24,
   "metadata": {},
   "outputs": [],
   "source": [
    "def download_image(particular_image_url):\n",
    "    #this function takes the specific image url and downloads the image locally as 001.jpg\n",
    "    resource = requests.get(particular_image_url)\n",
    "    \n",
    "    #saving the image locally\n",
    "    output_file = open(\"001.jpg\",\"wb\")\n",
    "    output_file.write(resource.content)\n",
    "    output_file.close()"
   ]
  },
  {
   "cell_type": "code",
   "execution_count": 25,
   "metadata": {},
   "outputs": [],
   "source": [
    "def image_address_extract(url_image):\n",
    "    #this function extracts the address of 1st image from the webpage\n",
    "    response = requests.get(url_image)\n",
    "    \n",
    "    #parsing the response as html\n",
    "    page_soup = BeautifulSoup(response.content,'html.parser')\n",
    "    \n",
    "    #searching for the first img tag\n",
    "    addresses=page_soup.find('img')\n",
    "    \n",
    "    #extracting the address of the image from the src attribute of the img tag\n",
    "    #after extraction it is passed on to the next function to download\n",
    "    download_image(addresses['src'])\n"
   ]
  },
  {
   "cell_type": "code",
   "execution_count": 26,
   "metadata": {},
   "outputs": [],
   "source": [
    "def search_for_keyword(input_key):\n",
    "    \n",
    "    local_executable_path=\"C:/Users/DAcharyya/Desktop/Vacation/To-Do/Web-Crawling/chromedriver.exe\"\n",
    "    browser=webdriver.Chrome(executable_path=local_executable_path)\n",
    "    \n",
    "    #first step is to navigate to google images\n",
    "    url1=\"https://images.google.com/\"\n",
    "    browser.get(url1)\n",
    "    \n",
    "    #searching the keyword via google images\n",
    "    #entering the keyword into the search field\n",
    "    search=browser.find_element_by_css_selector(\"#sbtc > div > div.a4bIc > input\")\n",
    "    search.send_keys(keyword)\n",
    "    #clicking the search button\n",
    "    search_button=browser.find_element_by_css_selector(\"#sbtc > button\")\n",
    "    search_button.click()\n",
    "    #retrieving the url for further processing\n",
    "    img_url=browser.current_url\n",
    "    #exiting the browser\n",
    "    browser.quit()\n",
    "    #passing on the url of the resultant google image webpage to the next function\n",
    "    image_address_extract(img_url)"
   ]
  },
  {
   "cell_type": "code",
   "execution_count": 27,
   "metadata": {},
   "outputs": [],
   "source": [
    "search_for_keyword(keyword)"
   ]
  }
 ],
 "metadata": {
  "kernelspec": {
   "display_name": "Python 3",
   "language": "python",
   "name": "python3"
  },
  "language_info": {
   "codemirror_mode": {
    "name": "ipython",
    "version": 3
   },
   "file_extension": ".py",
   "mimetype": "text/x-python",
   "name": "python",
   "nbconvert_exporter": "python",
   "pygments_lexer": "ipython3",
   "version": "3.6.4"
  }
 },
 "nbformat": 4,
 "nbformat_minor": 2
}
